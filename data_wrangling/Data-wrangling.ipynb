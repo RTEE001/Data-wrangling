{
 "cells": [
  {
   "cell_type": "markdown",
   "id": "a0793c27",
   "metadata": {},
   "source": [
    "# Data Wrangling"
   ]
  },
  {
   "cell_type": "markdown",
   "id": "7d1d5400",
   "metadata": {},
   "source": [
    "## Overview"
   ]
  },
  {
   "cell_type": "markdown",
   "id": "7abaaa9b",
   "metadata": {},
   "source": [
    " - Merging data frames\n",
    " - Miltering data frames\n",
    " - Manipulating rows and columns"
   ]
  },
  {
   "cell_type": "markdown",
   "id": "143b0722",
   "metadata": {},
   "source": [
    "### 1. Read dataset and examine data frames for duplicates(based on ID)"
   ]
  },
  {
   "cell_type": "markdown",
   "id": "e165a06d",
   "metadata": {},
   "source": [
    "Importing the pandas module"
   ]
  },
  {
   "cell_type": "code",
   "execution_count": 6,
   "id": "ce5647d6",
   "metadata": {},
   "outputs": [],
   "source": [
    "import pandas as pandas\n",
    "\n",
    "\n",
    "\n",
    "assert original_dataframe['ID'].nunique() == len(clean_dataframe['ID'])"
   ]
  },
  {
   "cell_type": "markdown",
   "id": "ab3440e3",
   "metadata": {},
   "source": [
    "Reading in the personality scores"
   ]
  },
  {
   "cell_type": "code",
   "execution_count": 7,
   "id": "f18042ec",
   "metadata": {},
   "outputs": [],
   "source": [
    "original_dataframe = pandas.read_csv(\"../data/personality_scores.csv\", delimiter=';')\n",
    "clean_dataframe = original_dataframe.drop_duplicates(subset='ID')\n"
   ]
  },
  {
   "cell_type": "markdown",
   "id": "5d3bcec9",
   "metadata": {},
   "source": []
  }
 ],
 "metadata": {
  "kernelspec": {
   "display_name": "Python 3.8.2 64-bit",
   "language": "python",
   "name": "python3"
  },
  "language_info": {
   "codemirror_mode": {
    "name": "ipython",
    "version": 3
   },
   "file_extension": ".py",
   "mimetype": "text/x-python",
   "name": "python",
   "nbconvert_exporter": "python",
   "pygments_lexer": "ipython3",
   "version": "3.8.2"
  },
  "vscode": {
   "interpreter": {
    "hash": "31f2aee4e71d21fbe5cf8b01ff0e069b9275f58929596ceb00d14d90e3e16cd6"
   }
  }
 },
 "nbformat": 4,
 "nbformat_minor": 5
}
